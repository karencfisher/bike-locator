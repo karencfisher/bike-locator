{
 "cells": [
  {
   "cell_type": "code",
   "execution_count": 1,
   "metadata": {},
   "outputs": [],
   "source": [
    "from db import load_database, search"
   ]
  },
  {
   "cell_type": "code",
   "execution_count": 2,
   "metadata": {},
   "outputs": [],
   "source": [
    "load_database()"
   ]
  },
  {
   "cell_type": "code",
   "execution_count": 3,
   "metadata": {},
   "outputs": [
    {
     "data": {
      "text/plain": [
       "((40.7645148, -73.9810009),\n",
       " [(0.00041669999999527363, 67, 40.764126, -73.980973),\n",
       "  (0.0016730799999962187, 117, 40.7652654, -73.98192338),\n",
       "  (0.0027546100000037654, 85, 40.76344058, -73.98268129),\n",
       "  (0.0031308000000009883, 79, 40.76695317, -73.98169333),\n",
       "  (0.0035787050466495884, 50, 40.765959181657976, -73.98313522338867)])"
      ]
     },
     "execution_count": 3,
     "metadata": {},
     "output_type": "execute_result"
    }
   ],
   "source": [
    "address = \"870 7th Avenue\"\n",
    "\n",
    "results = search(address)\n",
    "results"
   ]
  }
 ],
 "metadata": {
  "kernelspec": {
   "display_name": "edxclass2",
   "language": "python",
   "name": "python3"
  },
  "language_info": {
   "codemirror_mode": {
    "name": "ipython",
    "version": 3
   },
   "file_extension": ".py",
   "mimetype": "text/x-python",
   "name": "python",
   "nbconvert_exporter": "python",
   "pygments_lexer": "ipython3",
   "version": "3.9.16"
  }
 },
 "nbformat": 4,
 "nbformat_minor": 2
}
